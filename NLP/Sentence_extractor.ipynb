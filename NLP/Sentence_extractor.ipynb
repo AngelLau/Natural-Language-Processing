{
 "cells": [
  {
   "cell_type": "markdown",
   "id": "gothic-angola",
   "metadata": {},
   "source": [
    "# Sentence Extractor"
   ]
  },
  {
   "cell_type": "markdown",
   "id": "subject-schema",
   "metadata": {},
   "source": [
    "### Functions below help you to extract sentences containing particular keywords you specify."
   ]
  },
  {
   "cell_type": "code",
   "execution_count": null,
   "id": "formal-florida",
   "metadata": {},
   "outputs": [],
   "source": [
    "def sentence_extractor(string):\n",
    "    sentences = nlp(string).sents\n",
    "    original_sentences = []\n",
    "    lowercased_sentences = []\n",
    "    uppercased_sentences = []\n",
    "    propercased_sentences = []\n",
    "    lemmatized_sentences = []\n",
    "    for x in sentences:\n",
    "        original_sentences.append(x.text)\n",
    "        lowercased_sentences.append(x.text.lower())\n",
    "        uppercased_sentences.append(x.text.upper())\n",
    "        propercased_sentences.append(x.text.title())\n",
    "        lemmatized_sentences.append(x.lemma_.lower())\n",
    "    return {'sentences': original_sentences, 'lowercased_sentences': lowercased_sentences,'uppercased_sentences': uppercased_sentences,'propercased_sentences': propercased_sentences, 'lemmatized_sentences': lemmatized_sentences}\n",
    "def find_sentences_with_keywords(sentence_dict):\n",
    "    kw_sentence_dict = dict()\n",
    "    for kw_idx, keyword in enumerate(keywords):\n",
    "        filtered_sentences = []\n",
    "        for idx in range (len(sentence_dict['sentences'])):\n",
    "            words_in_keyword = keyword.split()\n",
    "            kw_present = True\n",
    "            for kw in words_in_keyword:\n",
    "                if not (\n",
    "                    kw in sentence_dict['sentences'][idx] or \n",
    "                    kw in sentence_dict['lowercased_sentences'][idx] or\n",
    "                    kw in sentence_dict['uppercased_sentences'][idx] or\n",
    "                    kw in sentence_dict['propercased_sentences'][idx] or\n",
    "                    kw in sentence_dict['lemmatized_sentences'][idx] or \n",
    "                    keywords_lemma[kw_idx] in sentence_dict['sentences'][idx] or \n",
    "                    keywords_lemma[kw_idx] in sentence_dict['lowercased_sentences'][idx] or \n",
    "                    keywords_lemma[kw_idx] in sentence_dict['uppercased_sentences'][idx] or \n",
    "                    keywords_lemma[kw_idx] in sentence_dict['propercased_sentences'][idx] or \n",
    "                    keywords_lemma[kw_idx] in sentence_dict['lemmatized_sentences'][idx]\n",
    "                   ):\n",
    "                    kw_present = False\n",
    "            if kw_present:\n",
    "                filtered_sentences.append(sentence_dict['sentences'][idx])\n",
    "        kw_sentence_dict[keyword] = filtered_sentences\n",
    "    return kw_sentence_dict"
   ]
  }
 ],
 "metadata": {
  "kernelspec": {
   "display_name": "Python 3",
   "language": "python",
   "name": "python3"
  },
  "language_info": {
   "codemirror_mode": {
    "name": "ipython",
    "version": 3
   },
   "file_extension": ".py",
   "mimetype": "text/x-python",
   "name": "python",
   "nbconvert_exporter": "python",
   "pygments_lexer": "ipython3",
   "version": "3.8.5"
  }
 },
 "nbformat": 4,
 "nbformat_minor": 5
}
